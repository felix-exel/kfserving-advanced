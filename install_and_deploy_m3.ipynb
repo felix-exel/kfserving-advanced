{
 "cells": [
  {
   "cell_type": "markdown",
   "metadata": {},
   "source": [
    "# Requirements\n",
    "- Artefacts: \n",
    "    - Models are uploaded in a Cloud Storage or Repo\n",
    "    - required Container are pushed to a Container Registry\n",
    "- Clean Kubernetes Cluster (e.g. minikube, Microk8s, Azure AKS, AWS EKS, ...)\n",
    "    - minikube start --cpus 10 --memory 17000 --kubernetes-version=v1.17.11 -p demo\n",
    "- Python Dependencies: [requirements.txt](./requirements.txt)\n",
    "- kubectl Access:\n",
    "    - az aks get-credentials --resource-group myResourceGroup --name myAKSCluster\n",
    "    - aws eks update-kubeconfig --name cluster_name"
   ]
  },
  {
   "cell_type": "markdown",
   "metadata": {},
   "source": [
    "# Install KFServing Standalone\n",
    "See: https://github.com/kubeflow/kfserving#install-kfserving\n",
    "### Install Istio"
   ]
  },
  {
   "cell_type": "code",
   "execution_count": 1,
   "metadata": {},
   "outputs": [
    {
     "name": "stdout",
     "output_type": "stream",
     "text": [
      "Overwriting ./istio/istio_ns.yaml\n"
     ]
    }
   ],
   "source": [
    "%%writefile ./istio/istio_ns.yaml\n",
    "apiVersion: v1\n",
    "kind: Namespace\n",
    "metadata:\n",
    "  name: istio-system\n",
    "  labels:\n",
    "    istio-injection: disabled"
   ]
  },
  {
   "cell_type": "code",
   "execution_count": 2,
   "metadata": {},
   "outputs": [
    {
     "name": "stdout",
     "output_type": "stream",
     "text": [
      "namespace/istio-system created\n"
     ]
    }
   ],
   "source": [
    "!kubectl apply -f ./istio/istio_ns.yaml"
   ]
  },
  {
   "cell_type": "code",
   "execution_count": 3,
   "metadata": {},
   "outputs": [
    {
     "name": "stdout",
     "output_type": "stream",
     "text": [
      "Overwriting ./istio/istio-minimal-operator.yaml\n"
     ]
    }
   ],
   "source": [
    "%%writefile ./istio/istio-minimal-operator.yaml\n",
    "apiVersion: install.istio.io/v1alpha1\n",
    "kind: IstioOperator\n",
    "spec:\n",
    "  values:\n",
    "    global:\n",
    "      proxy:\n",
    "        autoInject: disabled\n",
    "      useMCP: false\n",
    "      # The third-party-jwt is not enabled on all k8s.\n",
    "      # See: https://istio.io/docs/ops/best-practices/security/#configure-third-party-service-account-tokens\n",
    "      jwtPolicy: first-party-jwt\n",
    "  addonComponents:\n",
    "    pilot:\n",
    "      enabled: false\n",
    "    tracing:\n",
    "      enabled: false\n",
    "    kiali:\n",
    "      enabled: false\n",
    "    prometheus:\n",
    "      enabled: false\n",
    "    grafana:\n",
    "      enabled: false\n",
    "  components:\n",
    "    ingressGateways:\n",
    "      - name: istio-ingressgateway\n",
    "        enabled: true\n",
    "      - name: cluster-local-gateway\n",
    "        enabled: true\n",
    "        label:\n",
    "          istio: cluster-local-gateway\n",
    "          app: cluster-local-gateway\n",
    "        k8s:\n",
    "          service:\n",
    "            type: ClusterIP\n",
    "            ports:\n",
    "            - port: 15020\n",
    "              name: status-port\n",
    "            - port: 80\n",
    "              name: http2\n",
    "            - port: 443\n",
    "              name: https"
   ]
  },
  {
   "cell_type": "code",
   "execution_count": 4,
   "metadata": {},
   "outputs": [
    {
     "name": "stderr",
     "output_type": "stream",
     "text": [
      "  % Total    % Received % Xferd  Average Speed   Time    Time     Time  Current\n",
      "                                 Dload  Upload   Total   Spent    Left  Speed\n",
      "\n",
      "  0     0    0     0    0     0      0      0 --:--:-- --:--:-- --:--:--     0\n",
      "  0     0    0     0    0     0      0      0 --:--:-- --:--:-- --:--:--     0\n",
      "100   628  100   628    0     0   2352      0 --:--:-- --:--:-- --:--:--  2343\n",
      "\n",
      "  9 39.4M    9 3960k    0     0  3471k      0  0:00:11  0:00:01  0:00:10 3471k\n",
      " 28 39.4M   28 11.2M    0     0  5367k      0  0:00:07  0:00:02  0:00:05 7521k\n",
      " 51 39.4M   51 20.2M    0     0  6595k      0  0:00:06  0:00:03  0:00:03 8375k\n",
      " 71 39.4M   71 28.1M    0     0  6939k      0  0:00:05  0:00:04  0:00:01 8255k\n",
      " 89 39.4M   89 35.2M    0     0  7024k      0  0:00:05  0:00:05 --:--:-- 8039k\n",
      "100 39.4M  100 39.4M    0     0  7229k      0  0:00:05  0:00:05 --:--:-- 8195k\n"
     ]
    },
    {
     "name": "stdout",
     "output_type": "stream",
     "text": [
      "38.83830952644348\n"
     ]
    }
   ],
   "source": [
    "import time\n",
    "import platform\n",
    "import subprocess\n",
    "\n",
    "os_system = platform.system()\n",
    "os_machine = platform.machine()\n",
    "start = time.time()\n",
    "\n",
    "# Install Istio\n",
    "\n",
    "if os_system == 'Windows':\n",
    "    !curl -L https://github.com/istio/istio/releases/download/1.6.2/istioctl-1.6.2-win.zip -o istioctl-1.6.2-win.zip\n",
    "    !tar -xf istioctl-1.6.2-win.zip\n",
    "elif os_system == 'Linux':\n",
    "    if os_machine == 'AMD64':\n",
    "        !curl -L https://github.com/istio/istio/releases/download/1.6.2/istioctl-1.6.2-linux-amd64.tar.gz -o istioctl-1.6.2-linux.tar.gz\n",
    "    if os_machine == 'armv7l':\n",
    "        !curl -L https://github.com/istio/istio/releases/download/1.6.2/istioctl-1.6.2-linux-armv7.tar.gz -o istioctl-1.6.2-linux.tar.gz\n",
    "    if os_machine == 'aarch64':\n",
    "        print('Not supported')\n",
    "    !tar -zxvf istioctl-1.6.2-linux.tar.gz\n",
    "\n",
    "\n",
    "subprocess.run([\"istioctl.exe\", \"manifest\", \"apply\", \"-f\", \"./istio/istio-minimal-operator.yaml\"])\n",
    "end = time.time()\n",
    "print(end-start)"
   ]
  },
  {
   "cell_type": "code",
   "execution_count": 5,
   "metadata": {
    "scrolled": true
   },
   "outputs": [
    {
     "name": "stdout",
     "output_type": "stream",
     "text": [
      "customresourcedefinition.apiextensions.k8s.io/certificates.networking.internal.knative.dev created\n",
      "customresourcedefinition.apiextensions.k8s.io/configurations.serving.knative.dev created\n",
      "customresourcedefinition.apiextensions.k8s.io/ingresses.networking.internal.knative.dev created\n",
      "customresourcedefinition.apiextensions.k8s.io/metrics.autoscaling.internal.knative.dev created\n",
      "customresourcedefinition.apiextensions.k8s.io/podautoscalers.autoscaling.internal.knative.dev created\n",
      "customresourcedefinition.apiextensions.k8s.io/revisions.serving.knative.dev created\n",
      "customresourcedefinition.apiextensions.k8s.io/routes.serving.knative.dev created\n",
      "customresourcedefinition.apiextensions.k8s.io/serverlessservices.networking.internal.knative.dev created\n",
      "customresourcedefinition.apiextensions.k8s.io/services.serving.knative.dev created\n",
      "customresourcedefinition.apiextensions.k8s.io/images.caching.internal.knative.dev created\n",
      "namespace/knative-serving created\n",
      "clusterrole.rbac.authorization.k8s.io/knative-serving-addressable-resolver created\n",
      "clusterrole.rbac.authorization.k8s.io/knative-serving-namespaced-admin created\n",
      "clusterrole.rbac.authorization.k8s.io/knative-serving-namespaced-edit created\n",
      "clusterrole.rbac.authorization.k8s.io/knative-serving-namespaced-view created\n",
      "clusterrole.rbac.authorization.k8s.io/knative-serving-core created\n",
      "clusterrole.rbac.authorization.k8s.io/knative-serving-podspecable-binding created\n",
      "serviceaccount/controller created\n",
      "clusterrole.rbac.authorization.k8s.io/knative-serving-admin created\n",
      "clusterrolebinding.rbac.authorization.k8s.io/knative-serving-controller-admin created\n",
      "customresourcedefinition.apiextensions.k8s.io/images.caching.internal.knative.dev unchanged\n",
      "customresourcedefinition.apiextensions.k8s.io/certificates.networking.internal.knative.dev unchanged\n",
      "customresourcedefinition.apiextensions.k8s.io/configurations.serving.knative.dev unchanged\n",
      "customresourcedefinition.apiextensions.k8s.io/ingresses.networking.internal.knative.dev unchanged\n",
      "customresourcedefinition.apiextensions.k8s.io/metrics.autoscaling.internal.knative.dev unchanged\n",
      "customresourcedefinition.apiextensions.k8s.io/podautoscalers.autoscaling.internal.knative.dev unchanged\n",
      "customresourcedefinition.apiextensions.k8s.io/revisions.serving.knative.dev unchanged\n",
      "customresourcedefinition.apiextensions.k8s.io/routes.serving.knative.dev unchanged\n",
      "customresourcedefinition.apiextensions.k8s.io/serverlessservices.networking.internal.knative.dev unchanged\n",
      "customresourcedefinition.apiextensions.k8s.io/services.serving.knative.dev unchanged\n",
      "image.caching.internal.knative.dev/queue-proxy created\n",
      "configmap/config-autoscaler created\n",
      "configmap/config-defaults created\n",
      "configmap/config-deployment created\n",
      "configmap/config-domain created\n",
      "configmap/config-features created\n",
      "configmap/config-gc created\n",
      "configmap/config-leader-election created\n",
      "configmap/config-logging created\n",
      "configmap/config-network created\n",
      "configmap/config-observability created\n",
      "configmap/config-tracing created\n",
      "horizontalpodautoscaler.autoscaling/activator created\n",
      "poddisruptionbudget.policy/activator-pdb created\n",
      "deployment.apps/activator created\n",
      "service/activator-service created\n",
      "deployment.apps/autoscaler created\n",
      "service/autoscaler created\n",
      "deployment.apps/controller created\n",
      "service/controller created\n",
      "deployment.apps/webhook created\n",
      "service/webhook created\n",
      "validatingwebhookconfiguration.admissionregistration.k8s.io/config.webhook.serving.knative.dev created\n",
      "mutatingwebhookconfiguration.admissionregistration.k8s.io/webhook.serving.knative.dev created\n",
      "validatingwebhookconfiguration.admissionregistration.k8s.io/validation.webhook.serving.knative.dev created\n",
      "secret/webhook-certs created\n",
      "clusterrole.rbac.authorization.k8s.io/knative-serving-istio created\n",
      "gateway.networking.istio.io/knative-ingress-gateway created\n",
      "gateway.networking.istio.io/cluster-local-gateway created\n",
      "gateway.networking.istio.io/knative-local-gateway created\n",
      "service/knative-local-gateway created\n",
      "peerauthentication.security.istio.io/webhook created\n",
      "peerauthentication.security.istio.io/istio-webhook created\n",
      "mutatingwebhookconfiguration.admissionregistration.k8s.io/webhook.istio.networking.internal.knative.dev created\n",
      "validatingwebhookconfiguration.admissionregistration.k8s.io/config.webhook.istio.networking.internal.knative.dev created\n",
      "secret/istio-webhook-certs created\n",
      "configmap/config-istio created\n",
      "deployment.apps/networking-istio created\n",
      "deployment.apps/istio-webhook created\n",
      "service/istio-webhook created\n",
      "customresourcedefinition.apiextensions.k8s.io/issuers.cert-manager.io created\n",
      "customresourcedefinition.apiextensions.k8s.io/orders.acme.cert-manager.io created\n",
      "customresourcedefinition.apiextensions.k8s.io/certificaterequests.cert-manager.io created\n",
      "customresourcedefinition.apiextensions.k8s.io/certificates.cert-manager.io created\n",
      "customresourcedefinition.apiextensions.k8s.io/challenges.acme.cert-manager.io created\n",
      "customresourcedefinition.apiextensions.k8s.io/clusterissuers.cert-manager.io created\n",
      "namespace/cert-manager created\n",
      "serviceaccount/cert-manager-cainjector created\n",
      "serviceaccount/cert-manager created\n",
      "serviceaccount/cert-manager-webhook created\n",
      "clusterrole.rbac.authorization.k8s.io/cert-manager-cainjector created\n",
      "clusterrole.rbac.authorization.k8s.io/cert-manager-controller-orders created\n",
      "clusterrole.rbac.authorization.k8s.io/cert-manager-controller-challenges created\n",
      "clusterrole.rbac.authorization.k8s.io/cert-manager-edit created\n",
      "clusterrole.rbac.authorization.k8s.io/cert-manager-controller-ingress-shim created\n",
      "clusterrole.rbac.authorization.k8s.io/cert-manager-view created\n",
      "clusterrole.rbac.authorization.k8s.io/cert-manager-controller-certificates created\n",
      "clusterrole.rbac.authorization.k8s.io/cert-manager-controller-issuers created\n",
      "clusterrole.rbac.authorization.k8s.io/cert-manager-controller-clusterissuers created\n",
      "clusterrolebinding.rbac.authorization.k8s.io/cert-manager-cainjector created\n",
      "clusterrolebinding.rbac.authorization.k8s.io/cert-manager-controller-orders created\n",
      "clusterrolebinding.rbac.authorization.k8s.io/cert-manager-controller-clusterissuers created\n",
      "clusterrolebinding.rbac.authorization.k8s.io/cert-manager-controller-certificates created\n",
      "clusterrolebinding.rbac.authorization.k8s.io/cert-manager-controller-challenges created\n",
      "clusterrolebinding.rbac.authorization.k8s.io/cert-manager-controller-issuers created\n",
      "clusterrolebinding.rbac.authorization.k8s.io/cert-manager-controller-ingress-shim created\n",
      "role.rbac.authorization.k8s.io/cert-manager-cainjector:leaderelection created\n",
      "role.rbac.authorization.k8s.io/cert-manager:leaderelection created\n",
      "role.rbac.authorization.k8s.io/cert-manager-webhook:dynamic-serving created\n",
      "rolebinding.rbac.authorization.k8s.io/cert-manager-cainjector:leaderelection created\n",
      "rolebinding.rbac.authorization.k8s.io/cert-manager:leaderelection created\n",
      "rolebinding.rbac.authorization.k8s.io/cert-manager-webhook:dynamic-serving created\n",
      "service/cert-manager created\n",
      "service/cert-manager-webhook created\n",
      "deployment.apps/cert-manager-cainjector created\n",
      "deployment.apps/cert-manager created\n",
      "deployment.apps/cert-manager-webhook created\n",
      "mutatingwebhookconfiguration.admissionregistration.k8s.io/cert-manager-webhook created\n",
      "validatingwebhookconfiguration.admissionregistration.k8s.io/cert-manager-webhook created\n",
      "deployment.apps/cert-manager-webhook condition met\n",
      "namespace/kfserving-system created\n",
      "customresourcedefinition.apiextensions.k8s.io/inferenceservices.serving.kubeflow.org created\n",
      "customresourcedefinition.apiextensions.k8s.io/trainedmodels.serving.kubeflow.org created\n",
      "namespace/kfserving-system unchanged\n",
      "role.rbac.authorization.k8s.io/leader-election-role created\n",
      "clusterrole.rbac.authorization.k8s.io/kfserving-manager-role created\n",
      "clusterrole.rbac.authorization.k8s.io/kfserving-proxy-role created\n",
      "rolebinding.rbac.authorization.k8s.io/leader-election-rolebinding created\n",
      "clusterrolebinding.rbac.authorization.k8s.io/kfserving-manager-rolebinding created\n",
      "clusterrolebinding.rbac.authorization.k8s.io/kfserving-proxy-rolebinding created\n",
      "configmap/inferenceservice-config created\n",
      "configmap/kfserving-config created\n",
      "secret/kfserving-webhook-server-secret created\n",
      "service/kfserving-controller-manager-metrics-service created\n",
      "service/kfserving-controller-manager-service created\n",
      "service/kfserving-webhook-server-service created\n",
      "statefulset.apps/kfserving-controller-manager created\n",
      "certificate.cert-manager.io/serving-cert created\n",
      "issuer.cert-manager.io/selfsigned-issuer created\n",
      "mutatingwebhookconfiguration.admissionregistration.k8s.io/inferenceservice.serving.kubeflow.org created\n",
      "validatingwebhookconfiguration.admissionregistration.k8s.io/inferenceservice.serving.kubeflow.org created\n",
      "validatingwebhookconfiguration.admissionregistration.k8s.io/trainedmodel.serving.kubeflow.org created\n"
     ]
    },
    {
     "name": "stdout",
     "output_type": "stream",
     "text": [
      "namespace/knative-eventing created\n",
      "serviceaccount/eventing-controller created\n",
      "clusterrolebinding.rbac.authorization.k8s.io/eventing-controller created\n",
      "clusterrolebinding.rbac.authorization.k8s.io/eventing-controller-resolver created\n",
      "clusterrolebinding.rbac.authorization.k8s.io/eventing-controller-source-observer created\n",
      "clusterrolebinding.rbac.authorization.k8s.io/eventing-controller-sources-controller created\n",
      "clusterrolebinding.rbac.authorization.k8s.io/eventing-controller-manipulator created\n",
      "serviceaccount/pingsource-mt-adapter created\n",
      "clusterrolebinding.rbac.authorization.k8s.io/knative-eventing-pingsource-mt-adapter created\n",
      "serviceaccount/eventing-webhook created\n",
      "clusterrolebinding.rbac.authorization.k8s.io/eventing-webhook created\n",
      "clusterrolebinding.rbac.authorization.k8s.io/eventing-webhook-resolver created\n",
      "clusterrolebinding.rbac.authorization.k8s.io/eventing-webhook-podspecable-binding created\n",
      "configmap/config-br-default-channel created\n",
      "configmap/config-br-defaults created\n",
      "configmap/default-ch-webhook created\n",
      "configmap/config-leader-election created\n",
      "configmap/config-logging created\n",
      "configmap/config-observability created\n",
      "configmap/config-tracing created\n",
      "deployment.apps/eventing-controller created\n",
      "deployment.apps/pingsource-mt-adapter created\n",
      "deployment.apps/eventing-webhook created\n",
      "service/eventing-webhook created\n",
      "customresourcedefinition.apiextensions.k8s.io/apiserversources.sources.knative.dev created\n",
      "customresourcedefinition.apiextensions.k8s.io/brokers.eventing.knative.dev created\n",
      "customresourcedefinition.apiextensions.k8s.io/channels.messaging.knative.dev created\n",
      "customresourcedefinition.apiextensions.k8s.io/containersources.sources.knative.dev created\n",
      "customresourcedefinition.apiextensions.k8s.io/eventtypes.eventing.knative.dev created\n",
      "customresourcedefinition.apiextensions.k8s.io/parallels.flows.knative.dev created\n",
      "customresourcedefinition.apiextensions.k8s.io/pingsources.sources.knative.dev created\n",
      "customresourcedefinition.apiextensions.k8s.io/sequences.flows.knative.dev created\n",
      "customresourcedefinition.apiextensions.k8s.io/sinkbindings.sources.knative.dev created\n",
      "customresourcedefinition.apiextensions.k8s.io/subscriptions.messaging.knative.dev created\n",
      "customresourcedefinition.apiextensions.k8s.io/triggers.eventing.knative.dev created\n",
      "clusterrole.rbac.authorization.k8s.io/addressable-resolver created\n",
      "clusterrole.rbac.authorization.k8s.io/service-addressable-resolver created\n",
      "clusterrole.rbac.authorization.k8s.io/serving-addressable-resolver created\n",
      "clusterrole.rbac.authorization.k8s.io/channel-addressable-resolver created\n",
      "clusterrole.rbac.authorization.k8s.io/broker-addressable-resolver created\n",
      "clusterrole.rbac.authorization.k8s.io/messaging-addressable-resolver created\n",
      "clusterrole.rbac.authorization.k8s.io/flows-addressable-resolver created\n",
      "clusterrole.rbac.authorization.k8s.io/eventing-broker-filter created\n",
      "clusterrole.rbac.authorization.k8s.io/eventing-broker-ingress created\n",
      "clusterrole.rbac.authorization.k8s.io/eventing-config-reader created\n",
      "clusterrole.rbac.authorization.k8s.io/channelable-manipulator created\n",
      "clusterrole.rbac.authorization.k8s.io/meta-channelable-manipulator created\n",
      "clusterrole.rbac.authorization.k8s.io/knative-eventing-namespaced-admin created\n",
      "clusterrole.rbac.authorization.k8s.io/knative-messaging-namespaced-admin created\n",
      "clusterrole.rbac.authorization.k8s.io/knative-flows-namespaced-admin created\n",
      "clusterrole.rbac.authorization.k8s.io/knative-sources-namespaced-admin created\n",
      "clusterrole.rbac.authorization.k8s.io/knative-bindings-namespaced-admin created\n",
      "clusterrole.rbac.authorization.k8s.io/knative-eventing-namespaced-edit created\n",
      "clusterrole.rbac.authorization.k8s.io/knative-eventing-namespaced-view created\n",
      "clusterrole.rbac.authorization.k8s.io/knative-eventing-controller created\n",
      "clusterrole.rbac.authorization.k8s.io/knative-eventing-pingsource-mt-adapter created\n",
      "clusterrole.rbac.authorization.k8s.io/podspecable-binding created\n",
      "clusterrole.rbac.authorization.k8s.io/builtin-podspecable-binding created\n",
      "clusterrole.rbac.authorization.k8s.io/source-observer created\n",
      "clusterrole.rbac.authorization.k8s.io/eventing-sources-source-observer created\n",
      "clusterrole.rbac.authorization.k8s.io/knative-eventing-sources-controller created\n",
      "clusterrole.rbac.authorization.k8s.io/knative-eventing-webhook created\n",
      "validatingwebhookconfiguration.admissionregistration.k8s.io/config.webhook.eventing.knative.dev created\n",
      "mutatingwebhookconfiguration.admissionregistration.k8s.io/webhook.eventing.knative.dev created\n",
      "validatingwebhookconfiguration.admissionregistration.k8s.io/validation.webhook.eventing.knative.dev created\n",
      "secret/eventing-webhook-certs created\n",
      "mutatingwebhookconfiguration.admissionregistration.k8s.io/sinkbindings.webhook.sources.knative.dev created\n",
      "clusterrole.rbac.authorization.k8s.io/knative-eventing-mt-channel-broker-controller created\n",
      "clusterrole.rbac.authorization.k8s.io/knative-eventing-mt-broker-filter created\n",
      "serviceaccount/mt-broker-filter created\n",
      "clusterrole.rbac.authorization.k8s.io/knative-eventing-mt-broker-ingress created\n",
      "serviceaccount/mt-broker-ingress created\n",
      "clusterrolebinding.rbac.authorization.k8s.io/eventing-mt-channel-broker-controller created\n",
      "clusterrolebinding.rbac.authorization.k8s.io/knative-eventing-mt-broker-filter created\n",
      "clusterrolebinding.rbac.authorization.k8s.io/knative-eventing-mt-broker-ingress created\n",
      "deployment.apps/mt-broker-filter created\n",
      "service/broker-filter created\n",
      "deployment.apps/mt-broker-ingress created\n",
      "service/broker-ingress created\n",
      "deployment.apps/mt-broker-controller created\n",
      "horizontalpodautoscaler.autoscaling/broker-ingress-hpa created\n",
      "horizontalpodautoscaler.autoscaling/broker-filter-hpa created\n",
      "configmap/config-imc-event-dispatcher created\n",
      "clusterrole.rbac.authorization.k8s.io/imc-addressable-resolver created\n",
      "clusterrole.rbac.authorization.k8s.io/imc-channelable-manipulator created\n",
      "clusterrole.rbac.authorization.k8s.io/imc-controller created\n",
      "serviceaccount/imc-controller created\n",
      "clusterrole.rbac.authorization.k8s.io/imc-dispatcher created\n",
      "service/imc-dispatcher created\n",
      "serviceaccount/imc-dispatcher created\n",
      "clusterrolebinding.rbac.authorization.k8s.io/imc-controller created\n",
      "clusterrolebinding.rbac.authorization.k8s.io/imc-dispatcher created\n",
      "customresourcedefinition.apiextensions.k8s.io/inmemorychannels.messaging.knative.dev created\n",
      "deployment.apps/imc-controller created\n",
      "deployment.apps/imc-dispatcher created\n",
      "namespace/knative-monitoring created\n",
      "service/elasticsearch-logging created\n",
      "serviceaccount/elasticsearch-logging created\n",
      "clusterrole.rbac.authorization.k8s.io/elasticsearch-logging created\n",
      "clusterrolebinding.rbac.authorization.k8s.io/elasticsearch-logging created\n",
      "statefulset.apps/elasticsearch-logging created\n",
      "service/kibana-logging created\n",
      "deployment.apps/kibana-logging created\n",
      "configmap/fluentd-ds-config created\n",
      "serviceaccount/fluentd-ds created\n",
      "clusterrole.rbac.authorization.k8s.io/fluentd-ds created\n",
      "clusterrolebinding.rbac.authorization.k8s.io/fluentd-ds created\n",
      "service/fluentd-ds created\n",
      "daemonset.apps/fluentd-ds created\n",
      "serviceaccount/kube-state-metrics created\n",
      "role.rbac.authorization.k8s.io/kube-state-metrics-resizer created\n",
      "rolebinding.rbac.authorization.k8s.io/kube-state-metrics created\n",
      "clusterrole.rbac.authorization.k8s.io/kube-state-metrics created\n",
      "clusterrolebinding.rbac.authorization.k8s.io/kube-state-metrics created\n",
      "deployment.apps/kube-state-metrics created\n",
      "service/kube-state-metrics created\n",
      "configmap/grafana-dashboard-definition-kubernetes-deployment created\n",
      "configmap/grafana-dashboard-definition-kubernetes-capacity-planning created\n",
      "configmap/grafana-dashboard-definition-kubernetes-cluster-health created\n",
      "configmap/grafana-dashboard-definition-kubernetes-cluster-status created\n",
      "configmap/grafana-dashboard-definition-kubernetes-control-plane-status created\n",
      "configmap/grafana-dashboard-definition-kubernetes-resource-requests created\n",
      "configmap/grafana-dashboard-definition-kubernetes-nodes created\n",
      "configmap/grafana-dashboard-definition-kubernetes-pods created\n",
      "configmap/grafana-dashboard-definition-kubernetes-statefulset created\n",
      "serviceaccount/node-exporter created\n",
      "clusterrole.rbac.authorization.k8s.io/node-exporter created\n",
      "clusterrolebinding.rbac.authorization.k8s.io/node-exporter created\n",
      "daemonset.apps/node-exporter created\n",
      "service/node-exporter created\n",
      "configmap/grafana-custom-config created\n",
      "configmap/grafana-dashboard-definition-knative-efficiency created\n",
      "configmap/grafana-dashboard-definition-knative-reconciler created\n",
      "configmap/scaling-config created\n",
      "configmap/grafana-dashboard-definition-knative created\n",
      "configmap/grafana-datasources created\n",
      "configmap/grafana-dashboards created\n",
      "service/grafana created\n",
      "deployment.apps/grafana created\n",
      "configmap/prometheus-scrape-config created\n",
      "service/kube-controller-manager created\n",
      "service/prometheus-system-discovery created\n",
      "serviceaccount/prometheus-system created\n",
      "role.rbac.authorization.k8s.io/prometheus-system created\n",
      "role.rbac.authorization.k8s.io/prometheus-system created\n",
      "role.rbac.authorization.k8s.io/prometheus-system created\n",
      "role.rbac.authorization.k8s.io/prometheus-system created\n",
      "clusterrole.rbac.authorization.k8s.io/prometheus-system created\n",
      "rolebinding.rbac.authorization.k8s.io/prometheus-system created\n",
      "rolebinding.rbac.authorization.k8s.io/prometheus-system created\n",
      "rolebinding.rbac.authorization.k8s.io/prometheus-system created\n",
      "rolebinding.rbac.authorization.k8s.io/prometheus-system created\n",
      "clusterrolebinding.rbac.authorization.k8s.io/prometheus-system created\n",
      "service/prometheus-system-np created\n",
      "statefulset.apps/prometheus-system created\n",
      "service/zipkin created\n",
      "deployment.apps/zipkin created\n",
      "57.61312508583069\n"
     ]
    }
   ],
   "source": [
    "start = time.time()\n",
    "\n",
    "# Install Knative-Serving\n",
    "!kubectl apply --filename https://github.com/knative/serving/releases/download/v0.18.0/serving-crds.yaml\n",
    "!kubectl apply --filename https://github.com/knative/serving/releases/download/v0.18.0/serving-core.yaml\n",
    "!kubectl apply --filename https://github.com/knative/net-istio/releases/download/v0.18.0/release.yaml\n",
    "\n",
    "# Install Cert Manager\n",
    "!kubectl apply --validate=false -f https://github.com/jetstack/cert-manager/releases/download/v0.15.1/cert-manager.yaml\n",
    "!kubectl wait --for=condition=available --timeout=600s deployment/cert-manager-webhook -n cert-manager\n",
    "\n",
    "# Install KFServing\n",
    "!kubectl apply -f https://raw.githubusercontent.com/kubeflow/kfserving/master/install/v0.5.0/kfserving_crds.yaml\n",
    "!kubectl apply -f https://raw.githubusercontent.com/kubeflow/kfserving/master/install/v0.5.0/kfserving.yaml\n",
    "\n",
    "# Install Knative-Eventing\n",
    "!kubectl apply --filename https://github.com/knative/eventing/releases/download/v0.18.0/eventing.yaml\n",
    "\n",
    "# Install Knative-Monitoring\n",
    "!kubectl apply --filename https://github.com/knative/serving/releases/download/v0.18.0/monitoring.yaml\n",
    "\n",
    "end = time.time()\n",
    "print(end-start)"
   ]
  },
  {
   "cell_type": "markdown",
   "metadata": {},
   "source": [
    "## Deploy InfluxDB with Helm"
   ]
  },
  {
   "cell_type": "code",
   "execution_count": 6,
   "metadata": {},
   "outputs": [
    {
     "name": "stdout",
     "output_type": "stream",
     "text": [
      "\"influxdata\" already exists with the same configuration, skipping\n",
      "Hang tight while we grab the latest from your chart repositories...\n",
      "...Successfully got an update from the \"influxdata\" chart repository\n",
      "...Successfully got an update from the \"prometheus-community\" chart repository\n",
      "...Successfully got an update from the \"stable\" chart repository\n",
      "Update Complete. âŽˆHappy Helming!âŽˆ\n",
      "NAME                          \tCHART VERSION\tAPP VERSION\tDESCRIPTION                                       \n",
      "influxdata/chronograf         \t1.1.24       \t1.8.9.1    \tOpen-source web application written in Go and R...\n",
      "influxdata/influxdb           \t4.9.14       \t1.8.4      \tScalable datastore for metrics, events, and rea...\n",
      "influxdata/influxdb-enterprise\t0.1.12       \t1.8.0      \tRun InfluxDB Enterprise on Kubernetes             \n",
      "influxdata/influxdb2          \t2.0.0        \t2.0.4      \tA Helm chart for InfluxDB v2                      \n",
      "influxdata/kapacitor          \t1.3.1        \t1.5.4      \tInfluxDB's native data processing engine. It ca...\n",
      "influxdata/telegraf           \t1.7.38       \t1.18.0     \tTelegraf is an agent written in Go for collecti...\n",
      "influxdata/telegraf-ds        \t1.0.21       \t1.18       \tTelegraf is an agent written in Go for collecti...\n",
      "influxdata/telegraf-operator  \t1.1.5        \tv1.1.1     \tA Helm chart for Kubernetes to deploy telegraf-...\n",
      "stable/telegraf               \t1.6.1        \t1.12       \tDEPRECATED Telegraf is an agent written in Go f...\n",
      "NAME: release-influxdb\n",
      "LAST DEPLOYED: Tue Apr 27 19:21:54 2021\n",
      "NAMESPACE: default\n",
      "STATUS: deployed\n",
      "REVISION: 1\n",
      "TEST SUITE: None\n",
      "NOTES:\n",
      "InfluxDB can be accessed via port 8086 on the following DNS name from within your cluster:\n",
      "\n",
      "- http://release-influxdb.default:8086\n",
      "\n",
      "You can easily connect to the remote instance with your local influx cli. To forward the API port to localhost:8086 run the following:\n",
      "\n",
      "- kubectl port-forward --namespace default $(kubectl get pods --namespace default -l app=release-influxdb -o jsonpath='{ .items[0].metadata.name }') 8086:8086\n",
      "\n",
      "You can also connect to the influx cli from inside the container. To open a shell session in the InfluxDB pod run the following:\n",
      "\n",
      "- kubectl exec -i -t --namespace default $(kubectl get pods --namespace default -l app=release-influxdb -o jsonpath='{.items[0].metadata.name}') /bin/sh\n",
      "\n",
      "To tail the logs for the InfluxDB pod run the following:\n",
      "\n",
      "- kubectl logs -f --namespace default $(kubectl get pods --namespace default -l app=release-influxdb -o jsonpath='{ .items[0].metadata.name }')\n",
      "30.6326265335083\n"
     ]
    },
    {
     "name": "stderr",
     "output_type": "stream",
     "text": [
      "WARNING: This chart is deprecated\n"
     ]
    }
   ],
   "source": [
    "start = time.time()\n",
    "\n",
    "!helm repo add influxdata https://helm.influxdata.com/\n",
    "!helm repo update\n",
    "!helm search repo influxdata\n",
    "!helm install --name-template release-influxdb stable/influxdb\n",
    "\n",
    "end = time.time()\n",
    "print(end-start)"
   ]
  },
  {
   "cell_type": "markdown",
   "metadata": {},
   "source": [
    "## Deploy ServiceAccount to store AWS Credentials for S3 Bucket Access"
   ]
  },
  {
   "cell_type": "code",
   "execution_count": 7,
   "metadata": {},
   "outputs": [],
   "source": [
    "import os\n",
    "from IPython.core.magic import register_line_cell_magic\n",
    "from dotenv import load_dotenv\n",
    "load_dotenv()\n",
    "\n",
    "@register_line_cell_magic\n",
    "def writetemplate(line, cell):\n",
    "    with open(line, 'w') as f:\n",
    "        f.write(cell.format(**globals()))\n",
    "        \n",
    "AWS_ACCESS_KEY_ID = os.environ['AWS_ACCESS_KEY_ID']\n",
    "AWS_SECRET_ACCESS_KEY = os.environ['AWS_SECRET_ACCESS_KEY']"
   ]
  },
  {
   "cell_type": "code",
   "execution_count": 8,
   "metadata": {},
   "outputs": [],
   "source": [
    "%%writetemplate ./credentials/aws-secret_serviceaccount.yaml\n",
    "apiVersion: v1\n",
    "kind: Secret\n",
    "metadata:\n",
    "  name: aws-secret\n",
    "  namespace: kfserving-test\n",
    "type: Opaque\n",
    "stringData:\n",
    "  AWS_ACCESS_KEY_ID: {AWS_ACCESS_KEY_ID}\n",
    "  AWS_SECRET_ACCESS_KEY: {AWS_SECRET_ACCESS_KEY}\n",
    "---\n",
    "apiVersion: v1\n",
    "kind: ServiceAccount\n",
    "metadata:\n",
    "  name: sa\n",
    "  namespace: kfserving-test\n",
    "secrets:\n",
    "  - name: aws-secret"
   ]
  },
  {
   "cell_type": "code",
   "execution_count": 9,
   "metadata": {},
   "outputs": [
    {
     "name": "stdout",
     "output_type": "stream",
     "text": [
      "namespace/kfserving-test created\n",
      "secret/aws-secret created\n",
      "serviceaccount/sa created\n"
     ]
    }
   ],
   "source": [
    "!kubectl create ns kfserving-test\n",
    "!kubectl apply -f ./credentials/aws-secret_serviceaccount.yaml"
   ]
  },
  {
   "cell_type": "markdown",
   "metadata": {},
   "source": [
    "## Deploy docker-registry secret to access the private Gitlab Container Registry"
   ]
  },
  {
   "cell_type": "code",
   "execution_count": 10,
   "metadata": {},
   "outputs": [
    {
     "name": "stdout",
     "output_type": "stream",
     "text": [
      "secret/gitlab created\n"
     ]
    }
   ],
   "source": [
    "!kubectl create secret docker-registry gitlab \\\n",
    "    --docker-server=https://registry.gitlab.com/\\\n",
    "    --docker-username=%DOCKER_USERNAME%\\\n",
    "    --docker-password=%DOCKER_PASSWORD%\\\n",
    "    -n kfserving-test"
   ]
  },
  {
   "cell_type": "markdown",
   "metadata": {},
   "source": [
    "## Architektur:\n",
    "<img src=\"./architektur.png\" width=\"650\">"
   ]
  },
  {
   "cell_type": "markdown",
   "metadata": {},
   "source": [
    "## Deploy Knative Broker"
   ]
  },
  {
   "cell_type": "code",
   "execution_count": 11,
   "metadata": {},
   "outputs": [
    {
     "name": "stdout",
     "output_type": "stream",
     "text": [
      "Overwriting ./broker.yaml\n"
     ]
    }
   ],
   "source": [
    "%%writefile ./broker.yaml\n",
    "apiVersion: eventing.knative.dev/v1\n",
    "kind: broker\n",
    "metadata:\n",
    " name: product-recommender\n",
    " namespace: kfserving-test"
   ]
  },
  {
   "cell_type": "code",
   "execution_count": 12,
   "metadata": {},
   "outputs": [
    {
     "name": "stdout",
     "output_type": "stream",
     "text": [
      "broker.eventing.knative.dev/product-recommender created\n"
     ]
    }
   ],
   "source": [
    "!kubectl create -f ./broker.yaml"
   ]
  },
  {
   "cell_type": "markdown",
   "metadata": {},
   "source": [
    "# Deploy Product Recommender"
   ]
  },
  {
   "cell_type": "code",
   "execution_count": 13,
   "metadata": {},
   "outputs": [
    {
     "name": "stdout",
     "output_type": "stream",
     "text": [
      "Overwriting ./tf-deployment-recommender.yaml\n"
     ]
    }
   ],
   "source": [
    "%%writefile ./tf-deployment-recommender.yaml\n",
    "apiVersion: \"serving.kubeflow.org/v1beta1\"\n",
    "kind: \"InferenceService\"\n",
    "metadata:\n",
    "  namespace: \"kfserving-test\"\n",
    "  name: \"product-recommender\"\n",
    "spec:\n",
    "  transformer:\n",
    "        containers:\n",
    "        - image: registry.gitlab.com/felix.exel/container_registry/kfserving/model-performance-monitoring\n",
    "          name: user-container\n",
    "          imagePullPolicy: Always\n",
    "        imagePullSecrets:\n",
    "          - name: gitlab\n",
    "  predictor:\n",
    "    serviceAccountName: \"sa\" # service account for aws credentials\n",
    "    minReplicas: 1 # if 0: replica will scale down to 0 when there are no requests\n",
    "    tensorflow:\n",
    "      runtimeVersion: \"2.4.0\" #TensorFlow Serving Version\n",
    "      storageUri: \"s3://bucket-fex/0/719f2437c2a147d89ab6268cf7379cda/artifacts/saved_model/tfmodel/\" # subfolder must contain numbers only for tf serving\n",
    "    logger:\n",
    "      mode: all\n",
    "      url: http://broker-ingress.knative-eventing.svc.cluster.local/kfserving-test/product-recommender"
   ]
  },
  {
   "cell_type": "code",
   "execution_count": 14,
   "metadata": {},
   "outputs": [
    {
     "name": "stdout",
     "output_type": "stream",
     "text": [
      "inferenceservice.serving.kubeflow.org/product-recommender created\n"
     ]
    }
   ],
   "source": [
    "!kubectl apply -f ./tf-deployment-recommender.yaml"
   ]
  },
  {
   "cell_type": "markdown",
   "metadata": {},
   "source": [
    "# Deploy Anomaly Detection (Autoencoder)"
   ]
  },
  {
   "cell_type": "code",
   "execution_count": 15,
   "metadata": {},
   "outputs": [
    {
     "name": "stdout",
     "output_type": "stream",
     "text": [
      "Overwriting ./outlier_detection/outlier-detection.yaml\n"
     ]
    }
   ],
   "source": [
    "%%writefile ./outlier_detection/outlier-detection.yaml\n",
    "apiVersion: serving.kubeflow.org/v1beta1\n",
    "kind: InferenceService\n",
    "metadata:\n",
    "  namespace: kfserving-test\n",
    "  name: autoencoder-recommender\n",
    "spec:\n",
    "  transformer:\n",
    "        containers:\n",
    "        - image: registry.gitlab.com/felix.exel/container_registry/kfserving/outlier-detection\n",
    "          name: user-container\n",
    "          imagePullPolicy: Always\n",
    "        imagePullSecrets:\n",
    "          - name: gitlab\n",
    "\n",
    "  predictor:\n",
    "    serviceAccountName: \"sa\" # service account for aws credentials\n",
    "    minReplicas: 1 # if 0: replica will scale down to 0 when there are no requests\n",
    "    tensorflow:\n",
    "      runtimeVersion: \"2.4.0\" #TensorFlow Serving Version\n",
    "      storageUri: \"s3://bucket-fex/autoencoder_recommender/d052e637a7314c14a092585baf512672/\" # subfolder must contain numbers only for tf serving"
   ]
  },
  {
   "cell_type": "code",
   "execution_count": 16,
   "metadata": {},
   "outputs": [
    {
     "name": "stdout",
     "output_type": "stream",
     "text": [
      "inferenceservice.serving.kubeflow.org/autoencoder-recommender created\n"
     ]
    }
   ],
   "source": [
    "!kubectl apply -f ./outlier_detection/outlier-detection.yaml"
   ]
  },
  {
   "cell_type": "markdown",
   "metadata": {},
   "source": [
    "### Trigger Anomaly Detection (Autoencoder)"
   ]
  },
  {
   "cell_type": "code",
   "execution_count": 17,
   "metadata": {},
   "outputs": [
    {
     "name": "stdout",
     "output_type": "stream",
     "text": [
      "Overwriting ./outlier_detection/trigger.yaml\n"
     ]
    }
   ],
   "source": [
    "%%writefile ./outlier_detection/trigger.yaml\n",
    "apiVersion: eventing.knative.dev/v1\n",
    "kind: Trigger\n",
    "metadata:\n",
    "  name: outlier-trigger\n",
    "  namespace: kfserving-test\n",
    "spec:\n",
    "  broker: product-recommender\n",
    "  filter:\n",
    "    attributes:\n",
    "      type: org.kubeflow.serving.inference.request\n",
    "  subscriber:\n",
    "    uri: http://autoencoder-recommender-transformer-default.kfserving-test/v1/models/autoencoder-recommender:predict"
   ]
  },
  {
   "cell_type": "code",
   "execution_count": 18,
   "metadata": {},
   "outputs": [
    {
     "name": "stdout",
     "output_type": "stream",
     "text": [
      "trigger.eventing.knative.dev/outlier-trigger created\n"
     ]
    }
   ],
   "source": [
    "!kubectl apply -f ./outlier_detection/trigger.yaml"
   ]
  },
  {
   "cell_type": "markdown",
   "metadata": {},
   "source": [
    "<img src=\"./architektur.png\" width=\"650\">"
   ]
  },
  {
   "cell_type": "markdown",
   "metadata": {},
   "source": [
    "# Grafana"
   ]
  },
  {
   "cell_type": "code",
   "execution_count": 19,
   "metadata": {},
   "outputs": [
    {
     "name": "stdout",
     "output_type": "stream",
     "text": [
      "Overwriting ./istio/loadbalancer.yaml\n"
     ]
    }
   ],
   "source": [
    "%%writefile ./istio/loadbalancer.yaml\n",
    "apiVersion: v1\n",
    "kind: Service\n",
    "metadata:\n",
    "  name: grafana-load-balancer\n",
    "  namespace: knative-monitoring\n",
    "spec:\n",
    "  type: LoadBalancer\n",
    "  selector:\n",
    "    app: grafana\n",
    "  ports:\n",
    "    - protocol: TCP\n",
    "      port: 3000\n",
    "      targetPort: 3000"
   ]
  },
  {
   "cell_type": "code",
   "execution_count": 20,
   "metadata": {},
   "outputs": [
    {
     "name": "stdout",
     "output_type": "stream",
     "text": [
      "service/grafana-load-balancer created\n"
     ]
    }
   ],
   "source": [
    "!kubectl apply -f ./istio/loadbalancer.yaml"
   ]
  },
  {
   "cell_type": "code",
   "execution_count": 21,
   "metadata": {},
   "outputs": [
    {
     "name": "stdout",
     "output_type": "stream",
     "text": [
      "http://ab7ed9338b6944825893606e97c342fe-1340349124.eu-central-1.elb.amazonaws.com:3000/d/drTDt1LGz/model-performance?orgId=1&refresh=10s&from=now-5m&to=now\n"
     ]
    }
   ],
   "source": [
    "cluster_type = 'aws' # 'azure', 'aws', 'local'\n",
    "\n",
    "if cluster_type == 'azure': # azure aks\n",
    "    INGRESS_HOST_LIST = !kubectl -n istio-system get service istio-ingressgateway -o jsonpath={.status.loadBalancer.ingress[0].ip}\n",
    "    INGRESS_HOST =  INGRESS_HOST_LIST[0]\n",
    "    INGRESS_PORT = 80\n",
    "    GRAFANA_HOST_LIST = !kubectl -n knative-monitoring get service grafana-load-balancer -o jsonpath={.status.loadBalancer.ingress[0].ip}\n",
    "    GRAFANA_HOST = GRAFANA_HOST_LIST[0]\n",
    "    GRAFANA_PORT = 3000\n",
    "\n",
    "elif cluster_type == 'aws': # aws eks\n",
    "    INGRESS_HOST_LIST = !kubectl -n istio-system get service istio-ingressgateway -o jsonpath={.status.loadBalancer.ingress[0].hostname}\n",
    "    INGRESS_HOST =  INGRESS_HOST_LIST[0]\n",
    "    INGRESS_PORT = 80\n",
    "    GRAFANA_HOST_LIST = !kubectl -n knative-monitoring get service grafana-load-balancer -o jsonpath={.status.loadBalancer.ingress[0].hostname}\n",
    "    GRAFANA_HOST = GRAFANA_HOST_LIST[0]\n",
    "    GRAFANA_PORT = 3000\n",
    "    \n",
    "elif cluster_type == 'local': # e.g. minikube or microk8s\n",
    "    INGRESS_HOST_LIST = !kubectl get po -l istio=ingressgateway -n istio-system -o jsonpath={.items[0].status.hostIP}\n",
    "    INGRESS_HOST =  INGRESS_HOST_LIST[0] #eg. '192.168.52.86'\n",
    "    INGRESS_PORT_LIST = !kubectl get svc -l istio=ingressgateway -n istio-system -o jsonpath={.items[0].spec.ports[1].nodePort}\n",
    "    INGRESS_PORT = int(INGRESS_PORT_LIST[0])\n",
    "    GRAFANA_HOST = INGRESS_HOST\n",
    "    GRAFANA_PORT_LIST = !kubectl -n knative-monitoring get service grafana-load-balancer -o jsonpath={.spec.ports[0].nodePort}\n",
    "    GRAFANA_PORT = GRAFANA_PORT_LIST[0]\n",
    "\n",
    "print(f\"http://{GRAFANA_HOST}:{GRAFANA_PORT}/d/drTDt1LGz/model-performance?orgId=1&refresh=10s&from=now-5m&to=now\")"
   ]
  },
  {
   "cell_type": "markdown",
   "metadata": {},
   "source": [
    "# Test the ML-Service\n",
    "### Load Test Data"
   ]
  },
  {
   "cell_type": "code",
   "execution_count": 22,
   "metadata": {},
   "outputs": [
    {
     "name": "stdout",
     "output_type": "stream",
     "text": [
      "(30941, 30, 52)\n",
      "(30941,)\n"
     ]
    }
   ],
   "source": [
    "import pandas as pd\n",
    "import numpy as np\n",
    "import time\n",
    "import json\n",
    "import requests\n",
    "import urllib3\n",
    "from IPython.core.interactiveshell import InteractiveShell\n",
    "\n",
    "urllib3.disable_warnings()\n",
    "InteractiveShell.ast_node_interactivity = \"all\"\n",
    "np.set_printoptions(precision=5)\n",
    "\n",
    "sessions_padded = np.load('list_sessions_padded.npy')\n",
    "print(sessions_padded.shape)\n",
    "\n",
    "last_clicked = np.load('list_last_clicked.npy')\n",
    "print(last_clicked.shape)\n",
    "\n",
    "id_mapping = pd.read_csv('ID_Mapping.csv')"
   ]
  },
  {
   "cell_type": "code",
   "execution_count": 23,
   "metadata": {},
   "outputs": [],
   "source": [
    "def request_kf_serving_http(np_array, ground_truth, MODEL_NAME, NAMESPACE, INGRESS_HOST, INGRESS_PORT):\n",
    "    data = json.dumps({\"instances\": np_array.tolist(),\n",
    "                       'id': ground_truth.tolist()})\n",
    "    \n",
    "    headers = {\"content-type\": \"application/json\",\n",
    "               'Host': f'{MODEL_NAME}.{NAMESPACE}.example.com'}\n",
    "    \n",
    "    json_response = requests.post(\n",
    "        f'http://{INGRESS_HOST}:{INGRESS_PORT}/v1/models/{MODEL_NAME}:predict',\n",
    "        data=data, headers=headers)\n",
    "\n",
    "    try:\n",
    "        predictions = json.loads(json_response.text)['predictions']\n",
    "    except Exception as e:\n",
    "        print(json_response.text)\n",
    "        raise e\n",
    "    return np.array(predictions).astype(np.float32)\n",
    "\n",
    "\n",
    "NAMESPACE = 'kfserving-test'\n",
    "MODEL_NAME = 'product-recommender'"
   ]
  },
  {
   "cell_type": "markdown",
   "metadata": {},
   "source": [
    "## HTTP Request"
   ]
  },
  {
   "cell_type": "code",
   "execution_count": 27,
   "metadata": {},
   "outputs": [
    {
     "name": "stdout",
     "output_type": "stream",
     "text": [
      "Time required in Seconds: 0.5353260040283203\n",
      "Session:\n"
     ]
    },
    {
     "data": {
      "text/html": [
       "<div>\n",
       "<style scoped>\n",
       "    .dataframe tbody tr th:only-of-type {\n",
       "        vertical-align: middle;\n",
       "    }\n",
       "\n",
       "    .dataframe tbody tr th {\n",
       "        vertical-align: top;\n",
       "    }\n",
       "\n",
       "    .dataframe thead th {\n",
       "        text-align: right;\n",
       "    }\n",
       "</style>\n",
       "<table border=\"1\" class=\"dataframe\">\n",
       "  <thead>\n",
       "    <tr style=\"text-align: right;\">\n",
       "      <th></th>\n",
       "      <th>category_code</th>\n",
       "      <th>Item_ID</th>\n",
       "      <th>Item_ID_Mapped</th>\n",
       "    </tr>\n",
       "  </thead>\n",
       "  <tbody>\n",
       "    <tr>\n",
       "      <th>0</th>\n",
       "      <td>appliances.environment.vacuum</td>\n",
       "      <td>3700338.0</td>\n",
       "      <td>47</td>\n",
       "    </tr>\n",
       "    <tr>\n",
       "      <th>1</th>\n",
       "      <td>appliances.environment.vacuum</td>\n",
       "      <td>3700338.0</td>\n",
       "      <td>47</td>\n",
       "    </tr>\n",
       "    <tr>\n",
       "      <th>2</th>\n",
       "      <td>appliances.environment.vacuum</td>\n",
       "      <td>3701056.0</td>\n",
       "      <td>48</td>\n",
       "    </tr>\n",
       "    <tr>\n",
       "      <th>3</th>\n",
       "      <td>appliances.environment.vacuum</td>\n",
       "      <td>3700338.0</td>\n",
       "      <td>47</td>\n",
       "    </tr>\n",
       "    <tr>\n",
       "      <th>4</th>\n",
       "      <td>appliances.environment.vacuum</td>\n",
       "      <td>3701056.0</td>\n",
       "      <td>48</td>\n",
       "    </tr>\n",
       "    <tr>\n",
       "      <th>5</th>\n",
       "      <td>appliances.environment.vacuum</td>\n",
       "      <td>3700338.0</td>\n",
       "      <td>47</td>\n",
       "    </tr>\n",
       "    <tr>\n",
       "      <th>6</th>\n",
       "      <td>appliances.environment.vacuum</td>\n",
       "      <td>3701056.0</td>\n",
       "      <td>48</td>\n",
       "    </tr>\n",
       "    <tr>\n",
       "      <th>7</th>\n",
       "      <td>appliances.environment.vacuum</td>\n",
       "      <td>3700278.0</td>\n",
       "      <td>49</td>\n",
       "    </tr>\n",
       "    <tr>\n",
       "      <th>8</th>\n",
       "      <td>appliances.environment.vacuum</td>\n",
       "      <td>3700777.0</td>\n",
       "      <td>50</td>\n",
       "    </tr>\n",
       "    <tr>\n",
       "      <th>9</th>\n",
       "      <td>appliances.environment.vacuum</td>\n",
       "      <td>3701162.0</td>\n",
       "      <td>51</td>\n",
       "    </tr>\n",
       "    <tr>\n",
       "      <th>10</th>\n",
       "      <td>appliances.environment.vacuum</td>\n",
       "      <td>3700861.0</td>\n",
       "      <td>52</td>\n",
       "    </tr>\n",
       "    <tr>\n",
       "      <th>11</th>\n",
       "      <td>appliances.environment.vacuum</td>\n",
       "      <td>3701268.0</td>\n",
       "      <td>53</td>\n",
       "    </tr>\n",
       "  </tbody>\n",
       "</table>\n",
       "</div>"
      ],
      "text/plain": [
       "                    category_code    Item_ID  Item_ID_Mapped\n",
       "0   appliances.environment.vacuum  3700338.0              47\n",
       "1   appliances.environment.vacuum  3700338.0              47\n",
       "2   appliances.environment.vacuum  3701056.0              48\n",
       "3   appliances.environment.vacuum  3700338.0              47\n",
       "4   appliances.environment.vacuum  3701056.0              48\n",
       "5   appliances.environment.vacuum  3700338.0              47\n",
       "6   appliances.environment.vacuum  3701056.0              48\n",
       "7   appliances.environment.vacuum  3700278.0              49\n",
       "8   appliances.environment.vacuum  3700777.0              50\n",
       "9   appliances.environment.vacuum  3701162.0              51\n",
       "10  appliances.environment.vacuum  3700861.0              52\n",
       "11  appliances.environment.vacuum  3701268.0              53"
      ]
     },
     "execution_count": 27,
     "metadata": {},
     "output_type": "execute_result"
    },
    {
     "name": "stdout",
     "output_type": "stream",
     "text": [
      "Prediction:\n"
     ]
    },
    {
     "data": {
      "text/html": [
       "<div>\n",
       "<style scoped>\n",
       "    .dataframe tbody tr th:only-of-type {\n",
       "        vertical-align: middle;\n",
       "    }\n",
       "\n",
       "    .dataframe tbody tr th {\n",
       "        vertical-align: top;\n",
       "    }\n",
       "\n",
       "    .dataframe thead th {\n",
       "        text-align: right;\n",
       "    }\n",
       "</style>\n",
       "<table border=\"1\" class=\"dataframe\">\n",
       "  <thead>\n",
       "    <tr style=\"text-align: right;\">\n",
       "      <th></th>\n",
       "      <th>category_code</th>\n",
       "      <th>Item_ID</th>\n",
       "      <th>Item_ID_Mapped</th>\n",
       "      <th>probability</th>\n",
       "    </tr>\n",
       "  </thead>\n",
       "  <tbody>\n",
       "    <tr>\n",
       "      <th>0</th>\n",
       "      <td>appliances.environment.vacuum</td>\n",
       "      <td>3700600.0</td>\n",
       "      <td>3444</td>\n",
       "      <td>0.641037</td>\n",
       "    </tr>\n",
       "    <tr>\n",
       "      <th>1</th>\n",
       "      <td>appliances.environment.vacuum</td>\n",
       "      <td>3700832.0</td>\n",
       "      <td>2898</td>\n",
       "      <td>0.045066</td>\n",
       "    </tr>\n",
       "    <tr>\n",
       "      <th>2</th>\n",
       "      <td>appliances.environment.vacuum</td>\n",
       "      <td>3700787.0</td>\n",
       "      <td>1691</td>\n",
       "      <td>0.044069</td>\n",
       "    </tr>\n",
       "    <tr>\n",
       "      <th>3</th>\n",
       "      <td>appliances.environment.vacuum</td>\n",
       "      <td>3700907.0</td>\n",
       "      <td>406</td>\n",
       "      <td>0.037994</td>\n",
       "    </tr>\n",
       "    <tr>\n",
       "      <th>4</th>\n",
       "      <td>appliances.environment.vacuum</td>\n",
       "      <td>3701164.0</td>\n",
       "      <td>293</td>\n",
       "      <td>0.017183</td>\n",
       "    </tr>\n",
       "  </tbody>\n",
       "</table>\n",
       "</div>"
      ],
      "text/plain": [
       "                   category_code    Item_ID  Item_ID_Mapped  probability\n",
       "0  appliances.environment.vacuum  3700600.0            3444     0.641037\n",
       "1  appliances.environment.vacuum  3700832.0            2898     0.045066\n",
       "2  appliances.environment.vacuum  3700787.0            1691     0.044069\n",
       "3  appliances.environment.vacuum  3700907.0             406     0.037994\n",
       "4  appliances.environment.vacuum  3701164.0             293     0.017183"
      ]
     },
     "execution_count": 27,
     "metadata": {},
     "output_type": "execute_result"
    },
    {
     "name": "stdout",
     "output_type": "stream",
     "text": [
      "Ground Truth: 3444\n"
     ]
    }
   ],
   "source": [
    "idx = 15 # 15, 169, 14 anomaly: 169\n",
    "\n",
    "start = time.time()\n",
    "pred = request_kf_serving_http(sessions_padded[idx:idx+1], last_clicked[idx:idx+1],\n",
    "                          MODEL_NAME, NAMESPACE, INGRESS_HOST, INGRESS_PORT)\n",
    "end = time.time()\n",
    "print(f'Time required in Seconds: {end - start}')\n",
    "\n",
    "# top 5 predictions\n",
    "top = pred.argsort()[0][::-1][:5]\n",
    "\n",
    "print(\"Session:\")\n",
    "session = pd.DataFrame()\n",
    "session['category_code'] = [id_mapping['category_code'][int(i)-1] for i in sessions_padded[idx,:,0] if i>0]\n",
    "session['Item_ID'] = [id_mapping['Item_ID'][int(i)-1] for i in sessions_padded[idx,:,0] if i>0]\n",
    "session['Item_ID_Mapped'] = [int(i) for i in sessions_padded[idx,:,0] if i>0]\n",
    "session\n",
    "\n",
    "\n",
    "print(\"Prediction:\")\n",
    "prediction = pd.DataFrame()\n",
    "prediction['category_code'] = [id_mapping['category_code'][int(i)-1] for i in top if i>0]\n",
    "prediction['Item_ID'] = [id_mapping['Item_ID'][int(i)-1] for i in top if i>0]\n",
    "prediction['Item_ID_Mapped'] = [int(i) for i in top if i>0]\n",
    "prediction['probability'] = pred[0, top]\n",
    "prediction\n",
    "print(\"Ground Truth:\", last_clicked[idx])"
   ]
  },
  {
   "cell_type": "markdown",
   "metadata": {},
   "source": [
    "## Grafana Dashboard"
   ]
  },
  {
   "cell_type": "code",
   "execution_count": 26,
   "metadata": {},
   "outputs": [
    {
     "name": "stdout",
     "output_type": "stream",
     "text": [
      "http://ab7ed9338b6944825893606e97c342fe-1340349124.eu-central-1.elb.amazonaws.com:3000/d/drTDt1LGz/model-performance?orgId=1&refresh=10s&from=now-5m&to=now\n"
     ]
    }
   ],
   "source": [
    "print(f\"http://{GRAFANA_HOST}:{GRAFANA_PORT}/d/drTDt1LGz/model-performance?orgId=1&refresh=10s&from=now-5m&to=now\")"
   ]
  },
  {
   "cell_type": "code",
   "execution_count": null,
   "metadata": {},
   "outputs": [],
   "source": []
  }
 ],
 "metadata": {
  "kernelspec": {
   "display_name": "Python 3",
   "language": "python",
   "name": "python3"
  },
  "language_info": {
   "codemirror_mode": {
    "name": "ipython",
    "version": 3
   },
   "file_extension": ".py",
   "mimetype": "text/x-python",
   "name": "python",
   "nbconvert_exporter": "python",
   "pygments_lexer": "ipython3",
   "version": "3.7.4"
  }
 },
 "nbformat": 4,
 "nbformat_minor": 2
}
